{
 "cells": [
  {
   "cell_type": "code",
   "execution_count": 14,
   "id": "90b5a6a2-a6f3-4a8f-860a-96f8a783cfdf",
   "metadata": {},
   "outputs": [
    {
     "name": "stdout",
     "output_type": "stream",
     "text": [
      "   count  age     district   voting number             nominater\n",
      "0      1   90   Kilinochchi              1          Anura Kumara\n",
      "1      2   44        Matale              3  Ranil Wickremasinghe\n",
      "2      3   83       Badulla              2      Sajith Premadasa\n",
      "3      4   60        Jaffna              1          Anura Kumara\n",
      "4      5   38  Anuradhapura              4                 Other\n"
     ]
    }
   ],
   "source": [
    "import pandas as pd\n",
    "\n",
    "# Load the dataset\n",
    "file_path = \"E:\\\\Projects\\\\project04\\\\Election_Winner_Predictor\\\\dataset\\\\data.xlsx\"\n",
    "data = pd.read_excel(file_path)\n",
    "\n",
    "# Display the first few rows of the dataset\n",
    "print(data.head(5))\n"
   ]
  },
  {
   "cell_type": "code",
   "execution_count": 15,
   "id": "a20d7176-1bb2-40fa-bf13-803e775e73e8",
   "metadata": {},
   "outputs": [
    {
     "data": {
      "text/html": [
       "<div>\n",
       "<style scoped>\n",
       "    .dataframe tbody tr th:only-of-type {\n",
       "        vertical-align: middle;\n",
       "    }\n",
       "\n",
       "    .dataframe tbody tr th {\n",
       "        vertical-align: top;\n",
       "    }\n",
       "\n",
       "    .dataframe thead th {\n",
       "        text-align: right;\n",
       "    }\n",
       "</style>\n",
       "<table border=\"1\" class=\"dataframe\">\n",
       "  <thead>\n",
       "    <tr style=\"text-align: right;\">\n",
       "      <th></th>\n",
       "      <th>age</th>\n",
       "      <th>district</th>\n",
       "      <th>voting number</th>\n",
       "      <th>nominater</th>\n",
       "    </tr>\n",
       "  </thead>\n",
       "  <tbody>\n",
       "    <tr>\n",
       "      <th>0</th>\n",
       "      <td>90</td>\n",
       "      <td>Kilinochchi</td>\n",
       "      <td>1</td>\n",
       "      <td>Anura Kumara</td>\n",
       "    </tr>\n",
       "    <tr>\n",
       "      <th>1</th>\n",
       "      <td>44</td>\n",
       "      <td>Matale</td>\n",
       "      <td>3</td>\n",
       "      <td>Ranil Wickremasinghe</td>\n",
       "    </tr>\n",
       "    <tr>\n",
       "      <th>2</th>\n",
       "      <td>83</td>\n",
       "      <td>Badulla</td>\n",
       "      <td>2</td>\n",
       "      <td>Sajith Premadasa</td>\n",
       "    </tr>\n",
       "    <tr>\n",
       "      <th>3</th>\n",
       "      <td>60</td>\n",
       "      <td>Jaffna</td>\n",
       "      <td>1</td>\n",
       "      <td>Anura Kumara</td>\n",
       "    </tr>\n",
       "    <tr>\n",
       "      <th>4</th>\n",
       "      <td>38</td>\n",
       "      <td>Anuradhapura</td>\n",
       "      <td>4</td>\n",
       "      <td>Other</td>\n",
       "    </tr>\n",
       "    <tr>\n",
       "      <th>5</th>\n",
       "      <td>45</td>\n",
       "      <td>Gampaha</td>\n",
       "      <td>2</td>\n",
       "      <td>Sajith Premadasa</td>\n",
       "    </tr>\n",
       "    <tr>\n",
       "      <th>6</th>\n",
       "      <td>52</td>\n",
       "      <td>Kalutara</td>\n",
       "      <td>2</td>\n",
       "      <td>Sajith Premadasa</td>\n",
       "    </tr>\n",
       "    <tr>\n",
       "      <th>7</th>\n",
       "      <td>79</td>\n",
       "      <td>Kurunegala</td>\n",
       "      <td>2</td>\n",
       "      <td>Sajith Premadasa</td>\n",
       "    </tr>\n",
       "    <tr>\n",
       "      <th>8</th>\n",
       "      <td>69</td>\n",
       "      <td>Polonnaruwa</td>\n",
       "      <td>4</td>\n",
       "      <td>Other</td>\n",
       "    </tr>\n",
       "    <tr>\n",
       "      <th>9</th>\n",
       "      <td>42</td>\n",
       "      <td>Gampaha</td>\n",
       "      <td>4</td>\n",
       "      <td>Other</td>\n",
       "    </tr>\n",
       "  </tbody>\n",
       "</table>\n",
       "</div>"
      ],
      "text/plain": [
       "   age     district   voting number             nominater\n",
       "0   90   Kilinochchi              1          Anura Kumara\n",
       "1   44        Matale              3  Ranil Wickremasinghe\n",
       "2   83       Badulla              2      Sajith Premadasa\n",
       "3   60        Jaffna              1          Anura Kumara\n",
       "4   38  Anuradhapura              4                 Other\n",
       "5   45       Gampaha              2      Sajith Premadasa\n",
       "6   52      Kalutara              2      Sajith Premadasa\n",
       "7   79    Kurunegala              2      Sajith Premadasa\n",
       "8   69   Polonnaruwa              4                 Other\n",
       "9   42       Gampaha              4                 Other"
      ]
     },
     "execution_count": 15,
     "metadata": {},
     "output_type": "execute_result"
    }
   ],
   "source": [
    "# Drop the first column (index 0)\n",
    "data = data.drop(data.columns[0], axis=1)\n",
    "\n",
    "# Display the first few rows of the dataset\n",
    "data.head(10)"
   ]
  },
  {
   "cell_type": "code",
   "execution_count": null,
   "id": "86653def-f01c-4195-8b68-66ecf2a106a5",
   "metadata": {},
   "outputs": [],
   "source": []
  }
 ],
 "metadata": {
  "kernelspec": {
   "display_name": "Python 3 (ipykernel)",
   "language": "python",
   "name": "python3"
  },
  "language_info": {
   "codemirror_mode": {
    "name": "ipython",
    "version": 3
   },
   "file_extension": ".py",
   "mimetype": "text/x-python",
   "name": "python",
   "nbconvert_exporter": "python",
   "pygments_lexer": "ipython3",
   "version": "3.12.4"
  }
 },
 "nbformat": 4,
 "nbformat_minor": 5
}
